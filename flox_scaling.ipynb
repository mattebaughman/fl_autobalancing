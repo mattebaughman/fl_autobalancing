{
 "cells": [
  {
   "cell_type": "code",
   "execution_count": null,
   "id": "896adfcf",
   "metadata": {},
   "outputs": [],
   "source": [
    "def fl_launch(model, idx, eps, samps, bs):\n",
    "    path = '/Users/matt/datasets/wct/images/'\n",
    "    train_ds_files=[]\n",
    "    for i in os.list_dir(path):\n",
    "        files = os.list_dir(path+i)\n",
    "        for j in range(idx,len(files),idx):\n",
    "            train_ds_files.append(path+i+files[j])\n",
    "    train_ds_files = np.random.choice(train_ds_files,samps,replace=False)\n",
    "            \n",
    "    #train_ds = tf.keras.utils.image_dataset_from_directory('/Users/matt/datasets/wct/images/'\n",
    "            #,batch_size=bs, image_size=(406,306)) # old method\n",
    "            \n",
    "    train_ds = tf.data.Dataset(train_ds_files, batch_size=bs)# this is where i need help creating some data generator\n",
    "    \n",
    "    model.fit(train_ds, epochs = eps, batch_size=bs)\n",
    "    \n",
    "    return(model.get_weights())\n",
    "\n",
    "def fl(model,uuids,epochs,samples, batches):\n",
    "    for k in range(len(uuids)):\n",
    "        fcx.run(fl_launch(model,k,epochs[k],samples[k], batches[k]),uuids[k])\n",
    "\n",
    "        \n"
   ]
  },
  {
   "cell_type": "code",
   "execution_count": null,
   "id": "92c5393b",
   "metadata": {},
   "outputs": [],
   "source": []
  }
 ],
 "metadata": {
  "kernelspec": {
   "display_name": "Python 3 (ipykernel)",
   "language": "python",
   "name": "python3"
  },
  "language_info": {
   "codemirror_mode": {
    "name": "ipython",
    "version": 3
   },
   "file_extension": ".py",
   "mimetype": "text/x-python",
   "name": "python",
   "nbconvert_exporter": "python",
   "pygments_lexer": "ipython3",
   "version": "3.10.8"
  }
 },
 "nbformat": 4,
 "nbformat_minor": 5
}
